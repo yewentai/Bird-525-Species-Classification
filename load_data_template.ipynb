{
 "cells": [
  {
   "cell_type": "code",
   "execution_count": null,
   "metadata": {},
   "outputs": [],
   "source": [
    "import pandas as pd\n",
    "\n",
    "# Load the CSV file\n",
    "birds_data = pd.read_csv('./data/birds.csv')\n",
    "\n",
    "# Create a dictionary mapping class IDs to class labels\n",
    "labels_dict = dict(zip(birds_data['labels'], birds_data['class id'].astype(int)))\n",
    "\n",
    "# Print the dictionary\n",
    "print(labels_dict)"
   ]
  },
  {
   "cell_type": "code",
   "execution_count": null,
   "metadata": {},
   "outputs": [],
   "source": [
    "train_dir = './data/train'\n",
    "filepaths = []\n",
    "labels = []\n",
    "\n",
    "folds = os.listdir(train_dir)\n",
    "for fold in folds:\n",
    "    foldpath = os.path.join(train_dir, fold)\n",
    "    if os.path.isdir(foldpath):  # Check if it's a directory\n",
    "        filelist = os.listdir(foldpath)\n",
    "        for file in filelist:\n",
    "            fpath = os.path.join(foldpath, file)\n",
    "            filepaths.append(fpath)\n",
    "            labels.append(fold)\n",
    "\n",
    "train_pics_array = np.zeros((len(filepaths), 224*224*3))\n",
    "train_labels_int = np.zeros(len(filepaths))\n",
    "for i in range(len(filepaths)):\n",
    "    train_pics_array[i] = (np.array(Image.open(filepaths[i])).reshape(-1))/255\n",
    "    train_labels_int[i] = (labels_dict[labels[i]])"
   ]
  },
  {
   "cell_type": "code",
   "execution_count": null,
   "metadata": {},
   "outputs": [],
   "source": [
    "valid_dir = './data/valid'\n",
    "filepaths = []\n",
    "labels = []\n",
    "\n",
    "folds = os.listdir(valid_dir)\n",
    "for fold in folds:\n",
    "    foldpath = os.path.join(valid_dir, fold)\n",
    "    if os.path.isdir(foldpath):  # Check if it's a directory\n",
    "        filelist = os.listdir(foldpath)\n",
    "        for file in filelist:\n",
    "            fpath = os.path.join(foldpath, file)\n",
    "            filepaths.append(fpath)\n",
    "            labels.append(fold)\n",
    "\n",
    "valid_pics_array = np.zeros((len(filepaths), 224*224*3))\n",
    "valid_labels_int = np.zeros(len(filepaths))\n",
    "for i in range(len(filepaths)):\n",
    "    valid_pics_array[i] = (np.array(Image.open(filepaths[i])).reshape(-1))/255\n",
    "    valid_labels_int[i] = (labels_dict[labels[i]])"
   ]
  },
  {
   "cell_type": "code",
   "execution_count": null,
   "metadata": {},
   "outputs": [],
   "source": [
    "test_dir = './data/test'\n",
    "filepaths = []\n",
    "labels = []\n",
    "\n",
    "folds = os.listdir(test_dir)\n",
    "for fold in folds:\n",
    "    foldpath = os.path.join(test_dir, fold)\n",
    "    if os.path.isdir(foldpath):  # Check if it's a directory\n",
    "        filelist = os.listdir(foldpath)\n",
    "        for file in filelist:\n",
    "            fpath = os.path.join(foldpath, file)\n",
    "            filepaths.append(fpath)\n",
    "            labels.append(fold)\n",
    "\n",
    "test_pics_array = np.zeros((len(filepaths), 224*224*3))\n",
    "test_labels_int = np.zeros(len(filepaths))\n",
    "for i in range(len(filepaths)):\n",
    "    test_pics_array[i] = (np.array(Image.open(filepaths[i])).reshape(-1))/255\n",
    "    test_labels_int[i] = (labels_dict[labels[i]])"
   ]
  },
  {
   "cell_type": "code",
   "execution_count": null,
   "metadata": {},
   "outputs": [],
   "source": [
    "import matplotlib.pyplot as plt\n",
    "plt.imshow(train_pics_array[0].reshape(224, 224, 3))\n",
    "print(train_labels_int[0])\n",
    "print(train_pics_array[0].shape)"
   ]
  }
 ],
 "metadata": {
  "language_info": {
   "name": "python"
  }
 },
 "nbformat": 4,
 "nbformat_minor": 2
}
